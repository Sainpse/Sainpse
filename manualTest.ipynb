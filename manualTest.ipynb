{
 "cells": [
  {
   "cell_type": "code",
   "execution_count": 10,
   "metadata": {},
   "outputs": [],
   "source": [
    "from sainpse.finance.data.TwelveData import TwelveData\n",
    "import pendulum"
   ]
  },
  {
   "cell_type": "code",
   "execution_count": 11,
   "metadata": {},
   "outputs": [
    {
     "name": "stdout",
     "output_type": "stream",
     "text": [
      "start:2022-02-01 00:00:00\n"
     ]
    }
   ],
   "source": [
    "\n",
    "start    = pendulum.parse('2022-01-30 00:00:00',tz='Africa/Johannesburg')\n",
    "end      = pendulum.parse('2022-03-05 00:00:00',tz='Africa/Johannesburg')\n",
    "TDH      = TwelveData(start=start,end=end,interval=\"1month\",asset=\"EUR/USD\",token=\"60f1e974c61c48bc8b310a1e2f96ebc2\")\n",
    "history  = TDH.getHistory()"
   ]
  },
  {
   "cell_type": "code",
   "execution_count": 12,
   "metadata": {},
   "outputs": [
    {
     "data": {
      "text/html": [
       "<div>\n",
       "<style scoped>\n",
       "    .dataframe tbody tr th:only-of-type {\n",
       "        vertical-align: middle;\n",
       "    }\n",
       "\n",
       "    .dataframe tbody tr th {\n",
       "        vertical-align: top;\n",
       "    }\n",
       "\n",
       "    .dataframe thead th {\n",
       "        text-align: right;\n",
       "    }\n",
       "</style>\n",
       "<table border=\"1\" class=\"dataframe\">\n",
       "  <thead>\n",
       "    <tr style=\"text-align: right;\">\n",
       "      <th></th>\n",
       "      <th>open</th>\n",
       "      <th>high</th>\n",
       "      <th>low</th>\n",
       "      <th>close</th>\n",
       "      <th>percent_b</th>\n",
       "      <th>slow_k</th>\n",
       "      <th>slow_d</th>\n",
       "      <th>apo</th>\n",
       "      <th>supertrend</th>\n",
       "      <th>trange</th>\n",
       "      <th>ultosc</th>\n",
       "    </tr>\n",
       "    <tr>\n",
       "      <th>datetime</th>\n",
       "      <th></th>\n",
       "      <th></th>\n",
       "      <th></th>\n",
       "      <th></th>\n",
       "      <th></th>\n",
       "      <th></th>\n",
       "      <th></th>\n",
       "      <th></th>\n",
       "      <th></th>\n",
       "      <th></th>\n",
       "      <th></th>\n",
       "    </tr>\n",
       "  </thead>\n",
       "  <tbody>\n",
       "    <tr>\n",
       "      <th>2022-03-01</th>\n",
       "      <td>1.12150</td>\n",
       "      <td>1.1233</td>\n",
       "      <td>1.0807</td>\n",
       "      <td>1.0993</td>\n",
       "      <td>-0.02819</td>\n",
       "      <td>10.11510</td>\n",
       "      <td>11.29192</td>\n",
       "      <td>-0.00104</td>\n",
       "      <td>1.20212</td>\n",
       "      <td>0.0426</td>\n",
       "      <td>36.57955</td>\n",
       "    </tr>\n",
       "    <tr>\n",
       "      <th>2022-02-01</th>\n",
       "      <td>1.12335</td>\n",
       "      <td>1.1495</td>\n",
       "      <td>1.1107</td>\n",
       "      <td>1.1215</td>\n",
       "      <td>0.04783</td>\n",
       "      <td>11.55295</td>\n",
       "      <td>11.45604</td>\n",
       "      <td>0.00470</td>\n",
       "      <td>1.11305</td>\n",
       "      <td>0.0388</td>\n",
       "      <td>36.68788</td>\n",
       "    </tr>\n",
       "  </tbody>\n",
       "</table>\n",
       "</div>"
      ],
      "text/plain": [
       "               open    high     low   close  percent_b    slow_k    slow_d  \\\n",
       "datetime                                                                     \n",
       "2022-03-01  1.12150  1.1233  1.0807  1.0993   -0.02819  10.11510  11.29192   \n",
       "2022-02-01  1.12335  1.1495  1.1107  1.1215    0.04783  11.55295  11.45604   \n",
       "\n",
       "                apo  supertrend  trange    ultosc  \n",
       "datetime                                           \n",
       "2022-03-01 -0.00104     1.20212  0.0426  36.57955  \n",
       "2022-02-01  0.00470     1.11305  0.0388  36.68788  "
      ]
     },
     "execution_count": 12,
     "metadata": {},
     "output_type": "execute_result"
    }
   ],
   "source": [
    "history.tail()"
   ]
  },
  {
   "cell_type": "code",
   "execution_count": 13,
   "metadata": {},
   "outputs": [
    {
     "data": {
      "text/html": [
       "<div>\n",
       "<style scoped>\n",
       "    .dataframe tbody tr th:only-of-type {\n",
       "        vertical-align: middle;\n",
       "    }\n",
       "\n",
       "    .dataframe tbody tr th {\n",
       "        vertical-align: top;\n",
       "    }\n",
       "\n",
       "    .dataframe thead th {\n",
       "        text-align: right;\n",
       "    }\n",
       "</style>\n",
       "<table border=\"1\" class=\"dataframe\">\n",
       "  <thead>\n",
       "    <tr style=\"text-align: right;\">\n",
       "      <th></th>\n",
       "      <th>open</th>\n",
       "      <th>high</th>\n",
       "      <th>low</th>\n",
       "      <th>close</th>\n",
       "      <th>percent_b</th>\n",
       "      <th>slow_k</th>\n",
       "      <th>slow_d</th>\n",
       "      <th>apo</th>\n",
       "      <th>supertrend</th>\n",
       "      <th>trange</th>\n",
       "      <th>ultosc</th>\n",
       "    </tr>\n",
       "    <tr>\n",
       "      <th>datetime</th>\n",
       "      <th></th>\n",
       "      <th></th>\n",
       "      <th></th>\n",
       "      <th></th>\n",
       "      <th></th>\n",
       "      <th></th>\n",
       "      <th></th>\n",
       "      <th></th>\n",
       "      <th></th>\n",
       "      <th></th>\n",
       "      <th></th>\n",
       "    </tr>\n",
       "  </thead>\n",
       "  <tbody>\n",
       "    <tr>\n",
       "      <th>2022-03-01</th>\n",
       "      <td>1.12150</td>\n",
       "      <td>1.1233</td>\n",
       "      <td>1.0807</td>\n",
       "      <td>1.0993</td>\n",
       "      <td>-0.02819</td>\n",
       "      <td>10.11510</td>\n",
       "      <td>11.29192</td>\n",
       "      <td>-0.00104</td>\n",
       "      <td>1.20212</td>\n",
       "      <td>0.0426</td>\n",
       "      <td>36.57955</td>\n",
       "    </tr>\n",
       "    <tr>\n",
       "      <th>2022-02-01</th>\n",
       "      <td>1.12335</td>\n",
       "      <td>1.1495</td>\n",
       "      <td>1.1107</td>\n",
       "      <td>1.1215</td>\n",
       "      <td>0.04783</td>\n",
       "      <td>11.55295</td>\n",
       "      <td>11.45604</td>\n",
       "      <td>0.00470</td>\n",
       "      <td>1.11305</td>\n",
       "      <td>0.0388</td>\n",
       "      <td>36.68788</td>\n",
       "    </tr>\n",
       "  </tbody>\n",
       "</table>\n",
       "</div>"
      ],
      "text/plain": [
       "               open    high     low   close  percent_b    slow_k    slow_d  \\\n",
       "datetime                                                                     \n",
       "2022-03-01  1.12150  1.1233  1.0807  1.0993   -0.02819  10.11510  11.29192   \n",
       "2022-02-01  1.12335  1.1495  1.1107  1.1215    0.04783  11.55295  11.45604   \n",
       "\n",
       "                apo  supertrend  trange    ultosc  \n",
       "datetime                                           \n",
       "2022-03-01 -0.00104     1.20212  0.0426  36.57955  \n",
       "2022-02-01  0.00470     1.11305  0.0388  36.68788  "
      ]
     },
     "execution_count": 13,
     "metadata": {},
     "output_type": "execute_result"
    }
   ],
   "source": [
    "history.head()"
   ]
  },
  {
   "cell_type": "code",
   "execution_count": 14,
   "metadata": {},
   "outputs": [
    {
     "data": {
      "text/plain": [
       "(2, 11)"
      ]
     },
     "execution_count": 14,
     "metadata": {},
     "output_type": "execute_result"
    }
   ],
   "source": [
    "history.shape"
   ]
  },
  {
   "cell_type": "code",
   "execution_count": 6,
   "metadata": {},
   "outputs": [
    {
     "data": {
      "text/plain": [
       "(5000, 11)"
      ]
     },
     "execution_count": 6,
     "metadata": {},
     "output_type": "execute_result"
    }
   ],
   "source": [
    "history.drop_duplicates().shape"
   ]
  }
 ],
 "metadata": {
  "interpreter": {
   "hash": "916dbcbb3f70747c44a77c7bcd40155683ae19c65e1c03b4aa3499c5328201f1"
  },
  "kernelspec": {
   "display_name": "Python 3.8.10 64-bit",
   "language": "python",
   "name": "python3"
  },
  "language_info": {
   "codemirror_mode": {
    "name": "ipython",
    "version": 3
   },
   "file_extension": ".py",
   "mimetype": "text/x-python",
   "name": "python",
   "nbconvert_exporter": "python",
   "pygments_lexer": "ipython3",
   "version": "3.8.10"
  },
  "orig_nbformat": 4
 },
 "nbformat": 4,
 "nbformat_minor": 2
}
