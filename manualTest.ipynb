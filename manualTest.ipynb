{
 "cells": [
  {
   "cell_type": "code",
   "execution_count": 1,
   "metadata": {},
   "outputs": [],
   "source": [
    "from sainpse.finance.data.TwelveData import TwelveData\n",
    "import pendulum"
   ]
  },
  {
   "cell_type": "code",
   "execution_count": 2,
   "metadata": {},
   "outputs": [
    {
     "ename": "KeyboardInterrupt",
     "evalue": "",
     "output_type": "error",
     "traceback": [
      "\u001b[0;31m---------------------------------------------------------------------------\u001b[0m",
      "\u001b[0;31mKeyboardInterrupt\u001b[0m                         Traceback (most recent call last)",
      "\u001b[1;32m/home/sainpse/workspace/Sainpse/manualTest.ipynb Cell 2'\u001b[0m in \u001b[0;36m<cell line: 4>\u001b[0;34m()\u001b[0m\n\u001b[1;32m      <a href='vscode-notebook-cell://wsl%2Bubuntu/home/sainpse/workspace/Sainpse/manualTest.ipynb#ch0000001vscode-remote?line=1'>2</a>\u001b[0m end      \u001b[39m=\u001b[39m pendulum\u001b[39m.\u001b[39mparse(\u001b[39m'\u001b[39m\u001b[39m2022-03-05 00:00:00\u001b[39m\u001b[39m'\u001b[39m,tz\u001b[39m=\u001b[39m\u001b[39m'\u001b[39m\u001b[39mAfrica/Johannesburg\u001b[39m\u001b[39m'\u001b[39m)\n\u001b[1;32m      <a href='vscode-notebook-cell://wsl%2Bubuntu/home/sainpse/workspace/Sainpse/manualTest.ipynb#ch0000001vscode-remote?line=2'>3</a>\u001b[0m TDH      \u001b[39m=\u001b[39m TwelveData(start\u001b[39m=\u001b[39mstart,end\u001b[39m=\u001b[39mend,interval\u001b[39m=\u001b[39m\u001b[39m\"\u001b[39m\u001b[39m1min\u001b[39m\u001b[39m\"\u001b[39m,asset\u001b[39m=\u001b[39m\u001b[39m\"\u001b[39m\u001b[39mEUR/USD\u001b[39m\u001b[39m\"\u001b[39m,token\u001b[39m=\u001b[39m\u001b[39m\"\u001b[39m\u001b[39m60f1e974c61c48bc8b310a1e2f96ebc2\u001b[39m\u001b[39m\"\u001b[39m)\n\u001b[0;32m----> <a href='vscode-notebook-cell://wsl%2Bubuntu/home/sainpse/workspace/Sainpse/manualTest.ipynb#ch0000001vscode-remote?line=3'>4</a>\u001b[0m history  \u001b[39m=\u001b[39m TDH\u001b[39m.\u001b[39;49mgetHistory()\n",
      "File \u001b[0;32m~/workspace/Sainpse/sainpse/finance/data/TwelveData.py:76\u001b[0m, in \u001b[0;36mTwelveData.getHistory\u001b[0;34m(self)\u001b[0m\n\u001b[1;32m     <a href='file:///home/sainpse/workspace/Sainpse/sainpse/finance/data/TwelveData.py?line=73'>74</a>\u001b[0m         \u001b[39mreturn\u001b[39;00m \u001b[39mself\u001b[39m\u001b[39m.\u001b[39mhistory\n\u001b[1;32m     <a href='file:///home/sainpse/workspace/Sainpse/sainpse/finance/data/TwelveData.py?line=74'>75</a>\u001b[0m     \u001b[39melse\u001b[39;00m:\n\u001b[0;32m---> <a href='file:///home/sainpse/workspace/Sainpse/sainpse/finance/data/TwelveData.py?line=75'>76</a>\u001b[0m         \u001b[39mself\u001b[39;49m\u001b[39m.\u001b[39;49mgetHistory()\n\u001b[1;32m     <a href='file:///home/sainpse/workspace/Sainpse/sainpse/finance/data/TwelveData.py?line=78'>79</a>\u001b[0m \u001b[39mexcept\u001b[39;00m InvalidApiKeyError \u001b[39mas\u001b[39;00m e:\n\u001b[1;32m     <a href='file:///home/sainpse/workspace/Sainpse/sainpse/finance/data/TwelveData.py?line=79'>80</a>\u001b[0m     \u001b[39mprint\u001b[39m(e)\n",
      "File \u001b[0;32m~/workspace/Sainpse/sainpse/finance/data/TwelveData.py:68\u001b[0m, in \u001b[0;36mTwelveData.getHistory\u001b[0;34m(self)\u001b[0m\n\u001b[1;32m     <a href='file:///home/sainpse/workspace/Sainpse/sainpse/finance/data/TwelveData.py?line=65'>66</a>\u001b[0m     \u001b[39mself\u001b[39m\u001b[39m.\u001b[39mhistory \u001b[39m=\u001b[39m \u001b[39mself\u001b[39m\u001b[39m.\u001b[39mgetTimeSeries()\n\u001b[1;32m     <a href='file:///home/sainpse/workspace/Sainpse/sainpse/finance/data/TwelveData.py?line=66'>67</a>\u001b[0m \u001b[39melse\u001b[39;00m:\n\u001b[0;32m---> <a href='file:///home/sainpse/workspace/Sainpse/sainpse/finance/data/TwelveData.py?line=67'>68</a>\u001b[0m     \u001b[39mself\u001b[39m\u001b[39m.\u001b[39mhistory \u001b[39m=\u001b[39m \u001b[39mself\u001b[39m\u001b[39m.\u001b[39mhistory\u001b[39m.\u001b[39mappend(\u001b[39mself\u001b[39;49m\u001b[39m.\u001b[39;49mgetTimeSeries())\n\u001b[1;32m     <a href='file:///home/sainpse/workspace/Sainpse/sainpse/finance/data/TwelveData.py?line=69'>70</a>\u001b[0m newStart \u001b[39m=\u001b[39m \u001b[39mself\u001b[39m\u001b[39m.\u001b[39mhistory\u001b[39m.\u001b[39mtail(\u001b[39m1\u001b[39m)\u001b[39m.\u001b[39mindex[\u001b[39m0\u001b[39m]\u001b[39m.\u001b[39mstrftime(\u001b[39m\"\u001b[39m\u001b[39m%\u001b[39m\u001b[39mY-\u001b[39m\u001b[39m%\u001b[39m\u001b[39mm-\u001b[39m\u001b[39m%d\u001b[39;00m\u001b[39m \u001b[39m\u001b[39m%\u001b[39m\u001b[39mH:\u001b[39m\u001b[39m%\u001b[39m\u001b[39mM:\u001b[39m\u001b[39m%\u001b[39m\u001b[39mS\u001b[39m\u001b[39m\"\u001b[39m)\n\u001b[1;32m     <a href='file:///home/sainpse/workspace/Sainpse/sainpse/finance/data/TwelveData.py?line=70'>71</a>\u001b[0m \u001b[39mself\u001b[39m\u001b[39m.\u001b[39mend \u001b[39m=\u001b[39m pendulum\u001b[39m.\u001b[39mparse(newStart,tz\u001b[39m=\u001b[39m\u001b[39m'\u001b[39m\u001b[39mAfrica/Johannesburg\u001b[39m\u001b[39m'\u001b[39m)\n",
      "File \u001b[0;32m~/workspace/Sainpse/sainpse/finance/data/TwelveData.py:111\u001b[0m, in \u001b[0;36mTwelveData.getTimeSeries\u001b[0;34m(self)\u001b[0m\n\u001b[1;32m     <a href='file:///home/sainpse/workspace/Sainpse/sainpse/finance/data/TwelveData.py?line=98'>99</a>\u001b[0m \u001b[39mdef\u001b[39;00m \u001b[39mgetTimeSeries\u001b[39m(\u001b[39mself\u001b[39m):\n\u001b[1;32m    <a href='file:///home/sainpse/workspace/Sainpse/sainpse/finance/data/TwelveData.py?line=100'>101</a>\u001b[0m     ts \u001b[39m=\u001b[39m \u001b[39mself\u001b[39m\u001b[39m.\u001b[39mtd\u001b[39m.\u001b[39mtime_series(\n\u001b[1;32m    <a href='file:///home/sainpse/workspace/Sainpse/sainpse/finance/data/TwelveData.py?line=101'>102</a>\u001b[0m         symbol\u001b[39m=\u001b[39m\u001b[39mself\u001b[39m\u001b[39m.\u001b[39masset,\n\u001b[1;32m    <a href='file:///home/sainpse/workspace/Sainpse/sainpse/finance/data/TwelveData.py?line=102'>103</a>\u001b[0m         interval\u001b[39m=\u001b[39m\u001b[39mself\u001b[39m\u001b[39m.\u001b[39minterval,\n\u001b[0;32m   (...)\u001b[0m\n\u001b[1;32m    <a href='file:///home/sainpse/workspace/Sainpse/sainpse/finance/data/TwelveData.py?line=107'>108</a>\u001b[0m         timezone\u001b[39m=\u001b[39m\u001b[39m\"\u001b[39m\u001b[39mAfrica/Johannesburg\u001b[39m\u001b[39m\"\u001b[39m,\n\u001b[1;32m    <a href='file:///home/sainpse/workspace/Sainpse/sainpse/finance/data/TwelveData.py?line=108'>109</a>\u001b[0m     )\n\u001b[0;32m--> <a href='file:///home/sainpse/workspace/Sainpse/sainpse/finance/data/TwelveData.py?line=110'>111</a>\u001b[0m     dataHistory \u001b[39m=\u001b[39m ts\u001b[39m.\u001b[39;49mwith_percent_b()\u001b[39m.\u001b[39;49mwith_apo()\u001b[39m.\u001b[39;49mwith_supertrend()\u001b[39m.\u001b[39;49mwith_trange()\u001b[39m.\u001b[39;49mas_pandas()\n\u001b[1;32m    <a href='file:///home/sainpse/workspace/Sainpse/sainpse/finance/data/TwelveData.py?line=111'>112</a>\u001b[0m     \u001b[39mreturn\u001b[39;00m dataHistory\n",
      "File \u001b[0;32m~/.local/lib/python3.10/site-packages/twelvedata/time_series.py:119\u001b[0m, in \u001b[0;36mTimeSeries.as_pandas\u001b[0;34m(self, **kwargs)\u001b[0m\n\u001b[1;32m    <a href='file:///home/sainpse/.local/lib/python3.10/site-packages/twelvedata/time_series.py?line=115'>116</a>\u001b[0m     df \u001b[39m=\u001b[39m \u001b[39mNone\u001b[39;00m\n\u001b[1;32m    <a href='file:///home/sainpse/.local/lib/python3.10/site-packages/twelvedata/time_series.py?line=117'>118</a>\u001b[0m \u001b[39mfor\u001b[39;00m ep \u001b[39min\u001b[39;00m \u001b[39mself\u001b[39m\u001b[39m.\u001b[39mendpoints:\n\u001b[0;32m--> <a href='file:///home/sainpse/.local/lib/python3.10/site-packages/twelvedata/time_series.py?line=118'>119</a>\u001b[0m     tmp_df \u001b[39m=\u001b[39m ep\u001b[39m.\u001b[39;49mas_pandas(\u001b[39m*\u001b[39;49m\u001b[39m*\u001b[39;49mkwargs)\n\u001b[1;32m    <a href='file:///home/sainpse/.local/lib/python3.10/site-packages/twelvedata/time_series.py?line=119'>120</a>\u001b[0m     tmp_df \u001b[39m=\u001b[39m tmp_df\u001b[39m.\u001b[39madd_suffix(\u001b[39mstr\u001b[39m(\u001b[39mnext\u001b[39m(postfixes[ep\u001b[39m.\u001b[39m\u001b[39m__class__\u001b[39m])))\n\u001b[1;32m    <a href='file:///home/sainpse/.local/lib/python3.10/site-packages/twelvedata/time_series.py?line=121'>122</a>\u001b[0m     \u001b[39mif\u001b[39;00m df \u001b[39mis\u001b[39;00m \u001b[39mNone\u001b[39;00m:\n",
      "File \u001b[0;32m~/.local/lib/python3.10/site-packages/twelvedata/mixins.py:44\u001b[0m, in \u001b[0;36mAsPandasMixin.as_pandas\u001b[0;34m(self, **kwargs)\u001b[0m\n\u001b[1;32m     <a href='file:///home/sainpse/.local/lib/python3.10/site-packages/twelvedata/mixins.py?line=39'>40</a>\u001b[0m \u001b[39mimport\u001b[39;00m \u001b[39mpandas\u001b[39;00m \u001b[39mas\u001b[39;00m \u001b[39mpd\u001b[39;00m\n\u001b[1;32m     <a href='file:///home/sainpse/.local/lib/python3.10/site-packages/twelvedata/mixins.py?line=41'>42</a>\u001b[0m \u001b[39massert\u001b[39;00m \u001b[39mhasattr\u001b[39m(\u001b[39mself\u001b[39m, \u001b[39m\"\u001b[39m\u001b[39mas_json\u001b[39m\u001b[39m\"\u001b[39m)\n\u001b[0;32m---> <a href='file:///home/sainpse/.local/lib/python3.10/site-packages/twelvedata/mixins.py?line=43'>44</a>\u001b[0m data \u001b[39m=\u001b[39m \u001b[39mself\u001b[39;49m\u001b[39m.\u001b[39;49mas_json()\n\u001b[1;32m     <a href='file:///home/sainpse/.local/lib/python3.10/site-packages/twelvedata/mixins.py?line=44'>45</a>\u001b[0m \u001b[39mif\u001b[39;00m \u001b[39mhasattr\u001b[39m(\u001b[39mself\u001b[39m, \u001b[39m\"\u001b[39m\u001b[39mis_batch\u001b[39m\u001b[39m\"\u001b[39m) \u001b[39mand\u001b[39;00m \u001b[39mself\u001b[39m\u001b[39m.\u001b[39mis_batch:\n\u001b[1;32m     <a href='file:///home/sainpse/.local/lib/python3.10/site-packages/twelvedata/mixins.py?line=45'>46</a>\u001b[0m     df \u001b[39m=\u001b[39m convert_collection_to_pandas_multi_index(data)\n",
      "File \u001b[0;32m~/.local/lib/python3.10/site-packages/twelvedata/mixins.py:12\u001b[0m, in \u001b[0;36mAsJsonMixin.as_json\u001b[0;34m(self)\u001b[0m\n\u001b[1;32m     <a href='file:///home/sainpse/.local/lib/python3.10/site-packages/twelvedata/mixins.py?line=10'>11</a>\u001b[0m \u001b[39mdef\u001b[39;00m \u001b[39mas_json\u001b[39m(\u001b[39mself\u001b[39m):\n\u001b[0;32m---> <a href='file:///home/sainpse/.local/lib/python3.10/site-packages/twelvedata/mixins.py?line=11'>12</a>\u001b[0m     resp \u001b[39m=\u001b[39m \u001b[39mself\u001b[39;49m\u001b[39m.\u001b[39;49mexecute(\u001b[39mformat\u001b[39;49m\u001b[39m=\u001b[39;49m\u001b[39m\"\u001b[39;49m\u001b[39mJSON\u001b[39;49m\u001b[39m\"\u001b[39;49m)\n\u001b[1;32m     <a href='file:///home/sainpse/.local/lib/python3.10/site-packages/twelvedata/mixins.py?line=12'>13</a>\u001b[0m     json \u001b[39m=\u001b[39m resp\u001b[39m.\u001b[39mjson()\n\u001b[1;32m     <a href='file:///home/sainpse/.local/lib/python3.10/site-packages/twelvedata/mixins.py?line=13'>14</a>\u001b[0m     \u001b[39mif\u001b[39;00m \u001b[39mhasattr\u001b[39m(\u001b[39mself\u001b[39m, \u001b[39m'\u001b[39m\u001b[39mis_batch\u001b[39m\u001b[39m'\u001b[39m) \u001b[39mand\u001b[39;00m \u001b[39mself\u001b[39m\u001b[39m.\u001b[39mis_batch:\n",
      "File \u001b[0;32m~/.local/lib/python3.10/site-packages/twelvedata/endpoints.py:8111\u001b[0m, in \u001b[0;36mTRANGEEndpoint.execute\u001b[0;34m(self, format, debug)\u001b[0m\n\u001b[1;32m   <a href='file:///home/sainpse/.local/lib/python3.10/site-packages/twelvedata/endpoints.py?line=8108'>8109</a>\u001b[0m \u001b[39mif\u001b[39;00m debug:\n\u001b[1;32m   <a href='file:///home/sainpse/.local/lib/python3.10/site-packages/twelvedata/endpoints.py?line=8109'>8110</a>\u001b[0m     \u001b[39mreturn\u001b[39;00m build_url(\u001b[39mself\u001b[39m\u001b[39m.\u001b[39mctx\u001b[39m.\u001b[39mbase_url, endpoint, params)\n\u001b[0;32m-> <a href='file:///home/sainpse/.local/lib/python3.10/site-packages/twelvedata/endpoints.py?line=8110'>8111</a>\u001b[0m \u001b[39mreturn\u001b[39;00m \u001b[39mself\u001b[39;49m\u001b[39m.\u001b[39;49mctx\u001b[39m.\u001b[39;49mhttp_client\u001b[39m.\u001b[39;49mget(endpoint, params\u001b[39m=\u001b[39;49mparams)\n",
      "File \u001b[0;32m~/.local/lib/python3.10/site-packages/twelvedata/http_client.py:27\u001b[0m, in \u001b[0;36mDefaultHttpClient.get\u001b[0;34m(self, relative_url, *args, **kwargs)\u001b[0m\n\u001b[1;32m     <a href='file:///home/sainpse/.local/lib/python3.10/site-packages/twelvedata/http_client.py?line=23'>24</a>\u001b[0m params[\u001b[39m\"\u001b[39m\u001b[39msource\u001b[39m\u001b[39m\"\u001b[39m] \u001b[39m=\u001b[39m \u001b[39m\"\u001b[39m\u001b[39mpython\u001b[39m\u001b[39m\"\u001b[39m\n\u001b[1;32m     <a href='file:///home/sainpse/.local/lib/python3.10/site-packages/twelvedata/http_client.py?line=24'>25</a>\u001b[0m kwargs[\u001b[39m\"\u001b[39m\u001b[39mparams\u001b[39m\u001b[39m\"\u001b[39m] \u001b[39m=\u001b[39m params\n\u001b[0;32m---> <a href='file:///home/sainpse/.local/lib/python3.10/site-packages/twelvedata/http_client.py?line=26'>27</a>\u001b[0m resp \u001b[39m=\u001b[39m requests\u001b[39m.\u001b[39;49mget(\u001b[39m\"\u001b[39;49m\u001b[39m{}\u001b[39;49;00m\u001b[39m{}\u001b[39;49;00m\u001b[39m\"\u001b[39;49m\u001b[39m.\u001b[39;49mformat(\u001b[39mself\u001b[39;49m\u001b[39m.\u001b[39;49mbase_url, relative_url), timeout\u001b[39m=\u001b[39;49m\u001b[39m30\u001b[39;49m, \u001b[39m*\u001b[39;49margs, \u001b[39m*\u001b[39;49m\u001b[39m*\u001b[39;49mkwargs)\n\u001b[1;32m     <a href='file:///home/sainpse/.local/lib/python3.10/site-packages/twelvedata/http_client.py?line=27'>28</a>\u001b[0m \u001b[39mif\u001b[39;00m (\u001b[39m'\u001b[39m\u001b[39mIs_batch\u001b[39m\u001b[39m'\u001b[39m \u001b[39min\u001b[39;00m resp\u001b[39m.\u001b[39mheaders \u001b[39mand\u001b[39;00m resp\u001b[39m.\u001b[39mheaders[\u001b[39m'\u001b[39m\u001b[39mIs_batch\u001b[39m\u001b[39m'\u001b[39m] \u001b[39m==\u001b[39m \u001b[39m'\u001b[39m\u001b[39mtrue\u001b[39m\u001b[39m'\u001b[39m) \u001b[39mor\u001b[39;00m \\\n\u001b[1;32m     <a href='file:///home/sainpse/.local/lib/python3.10/site-packages/twelvedata/http_client.py?line=28'>29</a>\u001b[0m         (\u001b[39m'\u001b[39m\u001b[39mContent-Type\u001b[39m\u001b[39m'\u001b[39m \u001b[39min\u001b[39;00m resp\u001b[39m.\u001b[39mheaders \u001b[39mand\u001b[39;00m resp\u001b[39m.\u001b[39mheaders[\u001b[39m'\u001b[39m\u001b[39mContent-Type\u001b[39m\u001b[39m'\u001b[39m] \u001b[39m==\u001b[39m \u001b[39m'\u001b[39m\u001b[39mtext/csv\u001b[39m\u001b[39m'\u001b[39m):\n\u001b[1;32m     <a href='file:///home/sainpse/.local/lib/python3.10/site-packages/twelvedata/http_client.py?line=29'>30</a>\u001b[0m     \u001b[39mreturn\u001b[39;00m resp\n",
      "File \u001b[0;32m/usr/lib/python3/dist-packages/requests/api.py:76\u001b[0m, in \u001b[0;36mget\u001b[0;34m(url, params, **kwargs)\u001b[0m\n\u001b[1;32m     <a href='file:///usr/lib/python3/dist-packages/requests/api.py?line=64'>65</a>\u001b[0m \u001b[39mr\u001b[39m\u001b[39m\"\"\"Sends a GET request.\u001b[39;00m\n\u001b[1;32m     <a href='file:///usr/lib/python3/dist-packages/requests/api.py?line=65'>66</a>\u001b[0m \n\u001b[1;32m     <a href='file:///usr/lib/python3/dist-packages/requests/api.py?line=66'>67</a>\u001b[0m \u001b[39m:param url: URL for the new :class:`Request` object.\u001b[39;00m\n\u001b[0;32m   (...)\u001b[0m\n\u001b[1;32m     <a href='file:///usr/lib/python3/dist-packages/requests/api.py?line=71'>72</a>\u001b[0m \u001b[39m:rtype: requests.Response\u001b[39;00m\n\u001b[1;32m     <a href='file:///usr/lib/python3/dist-packages/requests/api.py?line=72'>73</a>\u001b[0m \u001b[39m\"\"\"\u001b[39;00m\n\u001b[1;32m     <a href='file:///usr/lib/python3/dist-packages/requests/api.py?line=74'>75</a>\u001b[0m kwargs\u001b[39m.\u001b[39msetdefault(\u001b[39m'\u001b[39m\u001b[39mallow_redirects\u001b[39m\u001b[39m'\u001b[39m, \u001b[39mTrue\u001b[39;00m)\n\u001b[0;32m---> <a href='file:///usr/lib/python3/dist-packages/requests/api.py?line=75'>76</a>\u001b[0m \u001b[39mreturn\u001b[39;00m request(\u001b[39m'\u001b[39;49m\u001b[39mget\u001b[39;49m\u001b[39m'\u001b[39;49m, url, params\u001b[39m=\u001b[39;49mparams, \u001b[39m*\u001b[39;49m\u001b[39m*\u001b[39;49mkwargs)\n",
      "File \u001b[0;32m/usr/lib/python3/dist-packages/requests/api.py:61\u001b[0m, in \u001b[0;36mrequest\u001b[0;34m(method, url, **kwargs)\u001b[0m\n\u001b[1;32m     <a href='file:///usr/lib/python3/dist-packages/requests/api.py?line=56'>57</a>\u001b[0m \u001b[39m# By using the 'with' statement we are sure the session is closed, thus we\u001b[39;00m\n\u001b[1;32m     <a href='file:///usr/lib/python3/dist-packages/requests/api.py?line=57'>58</a>\u001b[0m \u001b[39m# avoid leaving sockets open which can trigger a ResourceWarning in some\u001b[39;00m\n\u001b[1;32m     <a href='file:///usr/lib/python3/dist-packages/requests/api.py?line=58'>59</a>\u001b[0m \u001b[39m# cases, and look like a memory leak in others.\u001b[39;00m\n\u001b[1;32m     <a href='file:///usr/lib/python3/dist-packages/requests/api.py?line=59'>60</a>\u001b[0m \u001b[39mwith\u001b[39;00m sessions\u001b[39m.\u001b[39mSession() \u001b[39mas\u001b[39;00m session:\n\u001b[0;32m---> <a href='file:///usr/lib/python3/dist-packages/requests/api.py?line=60'>61</a>\u001b[0m     \u001b[39mreturn\u001b[39;00m session\u001b[39m.\u001b[39;49mrequest(method\u001b[39m=\u001b[39;49mmethod, url\u001b[39m=\u001b[39;49murl, \u001b[39m*\u001b[39;49m\u001b[39m*\u001b[39;49mkwargs)\n",
      "File \u001b[0;32m/usr/lib/python3/dist-packages/requests/sessions.py:542\u001b[0m, in \u001b[0;36mSession.request\u001b[0;34m(self, method, url, params, data, headers, cookies, files, auth, timeout, allow_redirects, proxies, hooks, stream, verify, cert, json)\u001b[0m\n\u001b[1;32m    <a href='file:///usr/lib/python3/dist-packages/requests/sessions.py?line=536'>537</a>\u001b[0m send_kwargs \u001b[39m=\u001b[39m {\n\u001b[1;32m    <a href='file:///usr/lib/python3/dist-packages/requests/sessions.py?line=537'>538</a>\u001b[0m     \u001b[39m'\u001b[39m\u001b[39mtimeout\u001b[39m\u001b[39m'\u001b[39m: timeout,\n\u001b[1;32m    <a href='file:///usr/lib/python3/dist-packages/requests/sessions.py?line=538'>539</a>\u001b[0m     \u001b[39m'\u001b[39m\u001b[39mallow_redirects\u001b[39m\u001b[39m'\u001b[39m: allow_redirects,\n\u001b[1;32m    <a href='file:///usr/lib/python3/dist-packages/requests/sessions.py?line=539'>540</a>\u001b[0m }\n\u001b[1;32m    <a href='file:///usr/lib/python3/dist-packages/requests/sessions.py?line=540'>541</a>\u001b[0m send_kwargs\u001b[39m.\u001b[39mupdate(settings)\n\u001b[0;32m--> <a href='file:///usr/lib/python3/dist-packages/requests/sessions.py?line=541'>542</a>\u001b[0m resp \u001b[39m=\u001b[39m \u001b[39mself\u001b[39;49m\u001b[39m.\u001b[39;49msend(prep, \u001b[39m*\u001b[39;49m\u001b[39m*\u001b[39;49msend_kwargs)\n\u001b[1;32m    <a href='file:///usr/lib/python3/dist-packages/requests/sessions.py?line=543'>544</a>\u001b[0m \u001b[39mreturn\u001b[39;00m resp\n",
      "File \u001b[0;32m/usr/lib/python3/dist-packages/requests/sessions.py:655\u001b[0m, in \u001b[0;36mSession.send\u001b[0;34m(self, request, **kwargs)\u001b[0m\n\u001b[1;32m    <a href='file:///usr/lib/python3/dist-packages/requests/sessions.py?line=651'>652</a>\u001b[0m start \u001b[39m=\u001b[39m preferred_clock()\n\u001b[1;32m    <a href='file:///usr/lib/python3/dist-packages/requests/sessions.py?line=653'>654</a>\u001b[0m \u001b[39m# Send the request\u001b[39;00m\n\u001b[0;32m--> <a href='file:///usr/lib/python3/dist-packages/requests/sessions.py?line=654'>655</a>\u001b[0m r \u001b[39m=\u001b[39m adapter\u001b[39m.\u001b[39;49msend(request, \u001b[39m*\u001b[39;49m\u001b[39m*\u001b[39;49mkwargs)\n\u001b[1;32m    <a href='file:///usr/lib/python3/dist-packages/requests/sessions.py?line=656'>657</a>\u001b[0m \u001b[39m# Total elapsed time of the request (approximately)\u001b[39;00m\n\u001b[1;32m    <a href='file:///usr/lib/python3/dist-packages/requests/sessions.py?line=657'>658</a>\u001b[0m elapsed \u001b[39m=\u001b[39m preferred_clock() \u001b[39m-\u001b[39m start\n",
      "File \u001b[0;32m/usr/lib/python3/dist-packages/requests/adapters.py:439\u001b[0m, in \u001b[0;36mHTTPAdapter.send\u001b[0;34m(self, request, stream, timeout, verify, cert, proxies)\u001b[0m\n\u001b[1;32m    <a href='file:///usr/lib/python3/dist-packages/requests/adapters.py?line=436'>437</a>\u001b[0m \u001b[39mtry\u001b[39;00m:\n\u001b[1;32m    <a href='file:///usr/lib/python3/dist-packages/requests/adapters.py?line=437'>438</a>\u001b[0m     \u001b[39mif\u001b[39;00m \u001b[39mnot\u001b[39;00m chunked:\n\u001b[0;32m--> <a href='file:///usr/lib/python3/dist-packages/requests/adapters.py?line=438'>439</a>\u001b[0m         resp \u001b[39m=\u001b[39m conn\u001b[39m.\u001b[39;49murlopen(\n\u001b[1;32m    <a href='file:///usr/lib/python3/dist-packages/requests/adapters.py?line=439'>440</a>\u001b[0m             method\u001b[39m=\u001b[39;49mrequest\u001b[39m.\u001b[39;49mmethod,\n\u001b[1;32m    <a href='file:///usr/lib/python3/dist-packages/requests/adapters.py?line=440'>441</a>\u001b[0m             url\u001b[39m=\u001b[39;49murl,\n\u001b[1;32m    <a href='file:///usr/lib/python3/dist-packages/requests/adapters.py?line=441'>442</a>\u001b[0m             body\u001b[39m=\u001b[39;49mrequest\u001b[39m.\u001b[39;49mbody,\n\u001b[1;32m    <a href='file:///usr/lib/python3/dist-packages/requests/adapters.py?line=442'>443</a>\u001b[0m             headers\u001b[39m=\u001b[39;49mrequest\u001b[39m.\u001b[39;49mheaders,\n\u001b[1;32m    <a href='file:///usr/lib/python3/dist-packages/requests/adapters.py?line=443'>444</a>\u001b[0m             redirect\u001b[39m=\u001b[39;49m\u001b[39mFalse\u001b[39;49;00m,\n\u001b[1;32m    <a href='file:///usr/lib/python3/dist-packages/requests/adapters.py?line=444'>445</a>\u001b[0m             assert_same_host\u001b[39m=\u001b[39;49m\u001b[39mFalse\u001b[39;49;00m,\n\u001b[1;32m    <a href='file:///usr/lib/python3/dist-packages/requests/adapters.py?line=445'>446</a>\u001b[0m             preload_content\u001b[39m=\u001b[39;49m\u001b[39mFalse\u001b[39;49;00m,\n\u001b[1;32m    <a href='file:///usr/lib/python3/dist-packages/requests/adapters.py?line=446'>447</a>\u001b[0m             decode_content\u001b[39m=\u001b[39;49m\u001b[39mFalse\u001b[39;49;00m,\n\u001b[1;32m    <a href='file:///usr/lib/python3/dist-packages/requests/adapters.py?line=447'>448</a>\u001b[0m             retries\u001b[39m=\u001b[39;49m\u001b[39mself\u001b[39;49m\u001b[39m.\u001b[39;49mmax_retries,\n\u001b[1;32m    <a href='file:///usr/lib/python3/dist-packages/requests/adapters.py?line=448'>449</a>\u001b[0m             timeout\u001b[39m=\u001b[39;49mtimeout\n\u001b[1;32m    <a href='file:///usr/lib/python3/dist-packages/requests/adapters.py?line=449'>450</a>\u001b[0m         )\n\u001b[1;32m    <a href='file:///usr/lib/python3/dist-packages/requests/adapters.py?line=451'>452</a>\u001b[0m     \u001b[39m# Send the request.\u001b[39;00m\n\u001b[1;32m    <a href='file:///usr/lib/python3/dist-packages/requests/adapters.py?line=452'>453</a>\u001b[0m     \u001b[39melse\u001b[39;00m:\n\u001b[1;32m    <a href='file:///usr/lib/python3/dist-packages/requests/adapters.py?line=453'>454</a>\u001b[0m         \u001b[39mif\u001b[39;00m \u001b[39mhasattr\u001b[39m(conn, \u001b[39m'\u001b[39m\u001b[39mproxy_pool\u001b[39m\u001b[39m'\u001b[39m):\n",
      "File \u001b[0;32m/usr/lib/python3/dist-packages/urllib3/connectionpool.py:699\u001b[0m, in \u001b[0;36mHTTPConnectionPool.urlopen\u001b[0;34m(self, method, url, body, headers, retries, redirect, assert_same_host, timeout, pool_timeout, release_conn, chunked, body_pos, **response_kw)\u001b[0m\n\u001b[1;32m    <a href='file:///usr/lib/python3/dist-packages/urllib3/connectionpool.py?line=695'>696</a>\u001b[0m     \u001b[39mself\u001b[39m\u001b[39m.\u001b[39m_prepare_proxy(conn)\n\u001b[1;32m    <a href='file:///usr/lib/python3/dist-packages/urllib3/connectionpool.py?line=697'>698</a>\u001b[0m \u001b[39m# Make the request on the httplib connection object.\u001b[39;00m\n\u001b[0;32m--> <a href='file:///usr/lib/python3/dist-packages/urllib3/connectionpool.py?line=698'>699</a>\u001b[0m httplib_response \u001b[39m=\u001b[39m \u001b[39mself\u001b[39;49m\u001b[39m.\u001b[39;49m_make_request(\n\u001b[1;32m    <a href='file:///usr/lib/python3/dist-packages/urllib3/connectionpool.py?line=699'>700</a>\u001b[0m     conn,\n\u001b[1;32m    <a href='file:///usr/lib/python3/dist-packages/urllib3/connectionpool.py?line=700'>701</a>\u001b[0m     method,\n\u001b[1;32m    <a href='file:///usr/lib/python3/dist-packages/urllib3/connectionpool.py?line=701'>702</a>\u001b[0m     url,\n\u001b[1;32m    <a href='file:///usr/lib/python3/dist-packages/urllib3/connectionpool.py?line=702'>703</a>\u001b[0m     timeout\u001b[39m=\u001b[39;49mtimeout_obj,\n\u001b[1;32m    <a href='file:///usr/lib/python3/dist-packages/urllib3/connectionpool.py?line=703'>704</a>\u001b[0m     body\u001b[39m=\u001b[39;49mbody,\n\u001b[1;32m    <a href='file:///usr/lib/python3/dist-packages/urllib3/connectionpool.py?line=704'>705</a>\u001b[0m     headers\u001b[39m=\u001b[39;49mheaders,\n\u001b[1;32m    <a href='file:///usr/lib/python3/dist-packages/urllib3/connectionpool.py?line=705'>706</a>\u001b[0m     chunked\u001b[39m=\u001b[39;49mchunked,\n\u001b[1;32m    <a href='file:///usr/lib/python3/dist-packages/urllib3/connectionpool.py?line=706'>707</a>\u001b[0m )\n\u001b[1;32m    <a href='file:///usr/lib/python3/dist-packages/urllib3/connectionpool.py?line=708'>709</a>\u001b[0m \u001b[39m# If we're going to release the connection in ``finally:``, then\u001b[39;00m\n\u001b[1;32m    <a href='file:///usr/lib/python3/dist-packages/urllib3/connectionpool.py?line=709'>710</a>\u001b[0m \u001b[39m# the response doesn't need to know about the connection. Otherwise\u001b[39;00m\n\u001b[1;32m    <a href='file:///usr/lib/python3/dist-packages/urllib3/connectionpool.py?line=710'>711</a>\u001b[0m \u001b[39m# it will also try to release it and we'll have a double-release\u001b[39;00m\n\u001b[1;32m    <a href='file:///usr/lib/python3/dist-packages/urllib3/connectionpool.py?line=711'>712</a>\u001b[0m \u001b[39m# mess.\u001b[39;00m\n\u001b[1;32m    <a href='file:///usr/lib/python3/dist-packages/urllib3/connectionpool.py?line=712'>713</a>\u001b[0m response_conn \u001b[39m=\u001b[39m conn \u001b[39mif\u001b[39;00m \u001b[39mnot\u001b[39;00m release_conn \u001b[39melse\u001b[39;00m \u001b[39mNone\u001b[39;00m\n",
      "File \u001b[0;32m/usr/lib/python3/dist-packages/urllib3/connectionpool.py:382\u001b[0m, in \u001b[0;36mHTTPConnectionPool._make_request\u001b[0;34m(self, conn, method, url, timeout, chunked, **httplib_request_kw)\u001b[0m\n\u001b[1;32m    <a href='file:///usr/lib/python3/dist-packages/urllib3/connectionpool.py?line=379'>380</a>\u001b[0m \u001b[39m# Trigger any extra validation we need to do.\u001b[39;00m\n\u001b[1;32m    <a href='file:///usr/lib/python3/dist-packages/urllib3/connectionpool.py?line=380'>381</a>\u001b[0m \u001b[39mtry\u001b[39;00m:\n\u001b[0;32m--> <a href='file:///usr/lib/python3/dist-packages/urllib3/connectionpool.py?line=381'>382</a>\u001b[0m     \u001b[39mself\u001b[39;49m\u001b[39m.\u001b[39;49m_validate_conn(conn)\n\u001b[1;32m    <a href='file:///usr/lib/python3/dist-packages/urllib3/connectionpool.py?line=382'>383</a>\u001b[0m \u001b[39mexcept\u001b[39;00m (SocketTimeout, BaseSSLError) \u001b[39mas\u001b[39;00m e:\n\u001b[1;32m    <a href='file:///usr/lib/python3/dist-packages/urllib3/connectionpool.py?line=383'>384</a>\u001b[0m     \u001b[39m# Py2 raises this as a BaseSSLError, Py3 raises it as socket timeout.\u001b[39;00m\n\u001b[1;32m    <a href='file:///usr/lib/python3/dist-packages/urllib3/connectionpool.py?line=384'>385</a>\u001b[0m     \u001b[39mself\u001b[39m\u001b[39m.\u001b[39m_raise_timeout(err\u001b[39m=\u001b[39me, url\u001b[39m=\u001b[39murl, timeout_value\u001b[39m=\u001b[39mconn\u001b[39m.\u001b[39mtimeout)\n",
      "File \u001b[0;32m/usr/lib/python3/dist-packages/urllib3/connectionpool.py:1012\u001b[0m, in \u001b[0;36mHTTPSConnectionPool._validate_conn\u001b[0;34m(self, conn)\u001b[0m\n\u001b[1;32m   <a href='file:///usr/lib/python3/dist-packages/urllib3/connectionpool.py?line=1009'>1010</a>\u001b[0m \u001b[39m# Force connect early to allow us to validate the connection.\u001b[39;00m\n\u001b[1;32m   <a href='file:///usr/lib/python3/dist-packages/urllib3/connectionpool.py?line=1010'>1011</a>\u001b[0m \u001b[39mif\u001b[39;00m \u001b[39mnot\u001b[39;00m \u001b[39mgetattr\u001b[39m(conn, \u001b[39m\"\u001b[39m\u001b[39msock\u001b[39m\u001b[39m\"\u001b[39m, \u001b[39mNone\u001b[39;00m):  \u001b[39m# AppEngine might not have  `.sock`\u001b[39;00m\n\u001b[0;32m-> <a href='file:///usr/lib/python3/dist-packages/urllib3/connectionpool.py?line=1011'>1012</a>\u001b[0m     conn\u001b[39m.\u001b[39;49mconnect()\n\u001b[1;32m   <a href='file:///usr/lib/python3/dist-packages/urllib3/connectionpool.py?line=1013'>1014</a>\u001b[0m \u001b[39mif\u001b[39;00m \u001b[39mnot\u001b[39;00m conn\u001b[39m.\u001b[39mis_verified:\n\u001b[1;32m   <a href='file:///usr/lib/python3/dist-packages/urllib3/connectionpool.py?line=1014'>1015</a>\u001b[0m     warnings\u001b[39m.\u001b[39mwarn(\n\u001b[1;32m   <a href='file:///usr/lib/python3/dist-packages/urllib3/connectionpool.py?line=1015'>1016</a>\u001b[0m         (\n\u001b[1;32m   <a href='file:///usr/lib/python3/dist-packages/urllib3/connectionpool.py?line=1016'>1017</a>\u001b[0m             \u001b[39m\"\u001b[39m\u001b[39mUnverified HTTPS request is being made to host \u001b[39m\u001b[39m'\u001b[39m\u001b[39m%s\u001b[39;00m\u001b[39m'\u001b[39m\u001b[39m. \u001b[39m\u001b[39m\"\u001b[39m\n\u001b[0;32m   (...)\u001b[0m\n\u001b[1;32m   <a href='file:///usr/lib/python3/dist-packages/urllib3/connectionpool.py?line=1021'>1022</a>\u001b[0m         InsecureRequestWarning,\n\u001b[1;32m   <a href='file:///usr/lib/python3/dist-packages/urllib3/connectionpool.py?line=1022'>1023</a>\u001b[0m     )\n",
      "File \u001b[0;32m/usr/lib/python3/dist-packages/urllib3/connection.py:353\u001b[0m, in \u001b[0;36mHTTPSConnection.connect\u001b[0;34m(self)\u001b[0m\n\u001b[1;32m    <a href='file:///usr/lib/python3/dist-packages/urllib3/connection.py?line=350'>351</a>\u001b[0m \u001b[39mdef\u001b[39;00m \u001b[39mconnect\u001b[39m(\u001b[39mself\u001b[39m):\n\u001b[1;32m    <a href='file:///usr/lib/python3/dist-packages/urllib3/connection.py?line=351'>352</a>\u001b[0m     \u001b[39m# Add certificate verification\u001b[39;00m\n\u001b[0;32m--> <a href='file:///usr/lib/python3/dist-packages/urllib3/connection.py?line=352'>353</a>\u001b[0m     conn \u001b[39m=\u001b[39m \u001b[39mself\u001b[39;49m\u001b[39m.\u001b[39;49m_new_conn()\n\u001b[1;32m    <a href='file:///usr/lib/python3/dist-packages/urllib3/connection.py?line=353'>354</a>\u001b[0m     hostname \u001b[39m=\u001b[39m \u001b[39mself\u001b[39m\u001b[39m.\u001b[39mhost\n\u001b[1;32m    <a href='file:///usr/lib/python3/dist-packages/urllib3/connection.py?line=354'>355</a>\u001b[0m     tls_in_tls \u001b[39m=\u001b[39m \u001b[39mFalse\u001b[39;00m\n",
      "File \u001b[0;32m/usr/lib/python3/dist-packages/urllib3/connection.py:169\u001b[0m, in \u001b[0;36mHTTPConnection._new_conn\u001b[0;34m(self)\u001b[0m\n\u001b[1;32m    <a href='file:///usr/lib/python3/dist-packages/urllib3/connection.py?line=165'>166</a>\u001b[0m     extra_kw[\u001b[39m\"\u001b[39m\u001b[39msocket_options\u001b[39m\u001b[39m\"\u001b[39m] \u001b[39m=\u001b[39m \u001b[39mself\u001b[39m\u001b[39m.\u001b[39msocket_options\n\u001b[1;32m    <a href='file:///usr/lib/python3/dist-packages/urllib3/connection.py?line=167'>168</a>\u001b[0m \u001b[39mtry\u001b[39;00m:\n\u001b[0;32m--> <a href='file:///usr/lib/python3/dist-packages/urllib3/connection.py?line=168'>169</a>\u001b[0m     conn \u001b[39m=\u001b[39m connection\u001b[39m.\u001b[39;49mcreate_connection(\n\u001b[1;32m    <a href='file:///usr/lib/python3/dist-packages/urllib3/connection.py?line=169'>170</a>\u001b[0m         (\u001b[39mself\u001b[39;49m\u001b[39m.\u001b[39;49m_dns_host, \u001b[39mself\u001b[39;49m\u001b[39m.\u001b[39;49mport), \u001b[39mself\u001b[39;49m\u001b[39m.\u001b[39;49mtimeout, \u001b[39m*\u001b[39;49m\u001b[39m*\u001b[39;49mextra_kw\n\u001b[1;32m    <a href='file:///usr/lib/python3/dist-packages/urllib3/connection.py?line=170'>171</a>\u001b[0m     )\n\u001b[1;32m    <a href='file:///usr/lib/python3/dist-packages/urllib3/connection.py?line=172'>173</a>\u001b[0m \u001b[39mexcept\u001b[39;00m SocketTimeout:\n\u001b[1;32m    <a href='file:///usr/lib/python3/dist-packages/urllib3/connection.py?line=173'>174</a>\u001b[0m     \u001b[39mraise\u001b[39;00m ConnectTimeoutError(\n\u001b[1;32m    <a href='file:///usr/lib/python3/dist-packages/urllib3/connection.py?line=174'>175</a>\u001b[0m         \u001b[39mself\u001b[39m,\n\u001b[1;32m    <a href='file:///usr/lib/python3/dist-packages/urllib3/connection.py?line=175'>176</a>\u001b[0m         \u001b[39m\"\u001b[39m\u001b[39mConnection to \u001b[39m\u001b[39m%s\u001b[39;00m\u001b[39m timed out. (connect timeout=\u001b[39m\u001b[39m%s\u001b[39;00m\u001b[39m)\u001b[39m\u001b[39m\"\u001b[39m\n\u001b[1;32m    <a href='file:///usr/lib/python3/dist-packages/urllib3/connection.py?line=176'>177</a>\u001b[0m         \u001b[39m%\u001b[39m (\u001b[39mself\u001b[39m\u001b[39m.\u001b[39mhost, \u001b[39mself\u001b[39m\u001b[39m.\u001b[39mtimeout),\n\u001b[1;32m    <a href='file:///usr/lib/python3/dist-packages/urllib3/connection.py?line=177'>178</a>\u001b[0m     )\n",
      "File \u001b[0;32m/usr/lib/python3/dist-packages/urllib3/util/connection.py:86\u001b[0m, in \u001b[0;36mcreate_connection\u001b[0;34m(address, timeout, source_address, socket_options)\u001b[0m\n\u001b[1;32m     <a href='file:///usr/lib/python3/dist-packages/urllib3/util/connection.py?line=83'>84</a>\u001b[0m     \u001b[39mif\u001b[39;00m source_address:\n\u001b[1;32m     <a href='file:///usr/lib/python3/dist-packages/urllib3/util/connection.py?line=84'>85</a>\u001b[0m         sock\u001b[39m.\u001b[39mbind(source_address)\n\u001b[0;32m---> <a href='file:///usr/lib/python3/dist-packages/urllib3/util/connection.py?line=85'>86</a>\u001b[0m     sock\u001b[39m.\u001b[39;49mconnect(sa)\n\u001b[1;32m     <a href='file:///usr/lib/python3/dist-packages/urllib3/util/connection.py?line=86'>87</a>\u001b[0m     \u001b[39mreturn\u001b[39;00m sock\n\u001b[1;32m     <a href='file:///usr/lib/python3/dist-packages/urllib3/util/connection.py?line=88'>89</a>\u001b[0m \u001b[39mexcept\u001b[39;00m socket\u001b[39m.\u001b[39merror \u001b[39mas\u001b[39;00m e:\n",
      "\u001b[0;31mKeyboardInterrupt\u001b[0m: "
     ]
    }
   ],
   "source": [
    "\n",
    "start    = pendulum.parse('2021-01-30 00:00:00',tz='Africa/Johannesburg')\n",
    "end      = pendulum.parse('2022-03-05 00:00:00',tz='Africa/Johannesburg')\n",
    "TDH      = TwelveData(start=start,end=end,interval=\"1min\",asset=\"EUR/USD\",token=\"60f1e974c61c48bc8b310a1e2f96ebc2\")\n",
    "history  = TDH.getHistory()"
   ]
  },
  {
   "cell_type": "code",
   "execution_count": 12,
   "metadata": {},
   "outputs": [
    {
     "data": {
      "text/html": [
       "<div>\n",
       "<style scoped>\n",
       "    .dataframe tbody tr th:only-of-type {\n",
       "        vertical-align: middle;\n",
       "    }\n",
       "\n",
       "    .dataframe tbody tr th {\n",
       "        vertical-align: top;\n",
       "    }\n",
       "\n",
       "    .dataframe thead th {\n",
       "        text-align: right;\n",
       "    }\n",
       "</style>\n",
       "<table border=\"1\" class=\"dataframe\">\n",
       "  <thead>\n",
       "    <tr style=\"text-align: right;\">\n",
       "      <th></th>\n",
       "      <th>open</th>\n",
       "      <th>high</th>\n",
       "      <th>low</th>\n",
       "      <th>close</th>\n",
       "      <th>percent_b</th>\n",
       "      <th>slow_k</th>\n",
       "      <th>slow_d</th>\n",
       "      <th>apo</th>\n",
       "      <th>supertrend</th>\n",
       "      <th>trange</th>\n",
       "      <th>ultosc</th>\n",
       "    </tr>\n",
       "    <tr>\n",
       "      <th>datetime</th>\n",
       "      <th></th>\n",
       "      <th></th>\n",
       "      <th></th>\n",
       "      <th></th>\n",
       "      <th></th>\n",
       "      <th></th>\n",
       "      <th></th>\n",
       "      <th></th>\n",
       "      <th></th>\n",
       "      <th></th>\n",
       "      <th></th>\n",
       "    </tr>\n",
       "  </thead>\n",
       "  <tbody>\n",
       "    <tr>\n",
       "      <th>2022-03-01</th>\n",
       "      <td>1.12150</td>\n",
       "      <td>1.1233</td>\n",
       "      <td>1.0807</td>\n",
       "      <td>1.0993</td>\n",
       "      <td>-0.02819</td>\n",
       "      <td>10.11510</td>\n",
       "      <td>11.29192</td>\n",
       "      <td>-0.00104</td>\n",
       "      <td>1.20212</td>\n",
       "      <td>0.0426</td>\n",
       "      <td>36.57955</td>\n",
       "    </tr>\n",
       "    <tr>\n",
       "      <th>2022-02-01</th>\n",
       "      <td>1.12335</td>\n",
       "      <td>1.1495</td>\n",
       "      <td>1.1107</td>\n",
       "      <td>1.1215</td>\n",
       "      <td>0.04783</td>\n",
       "      <td>11.55295</td>\n",
       "      <td>11.45604</td>\n",
       "      <td>0.00470</td>\n",
       "      <td>1.11305</td>\n",
       "      <td>0.0388</td>\n",
       "      <td>36.68788</td>\n",
       "    </tr>\n",
       "  </tbody>\n",
       "</table>\n",
       "</div>"
      ],
      "text/plain": [
       "               open    high     low   close  percent_b    slow_k    slow_d  \\\n",
       "datetime                                                                     \n",
       "2022-03-01  1.12150  1.1233  1.0807  1.0993   -0.02819  10.11510  11.29192   \n",
       "2022-02-01  1.12335  1.1495  1.1107  1.1215    0.04783  11.55295  11.45604   \n",
       "\n",
       "                apo  supertrend  trange    ultosc  \n",
       "datetime                                           \n",
       "2022-03-01 -0.00104     1.20212  0.0426  36.57955  \n",
       "2022-02-01  0.00470     1.11305  0.0388  36.68788  "
      ]
     },
     "execution_count": 12,
     "metadata": {},
     "output_type": "execute_result"
    }
   ],
   "source": [
    "history.tail()"
   ]
  },
  {
   "cell_type": "code",
   "execution_count": null,
   "metadata": {},
   "outputs": [],
   "source": [
    "isinstance(i, int)"
   ]
  },
  {
   "cell_type": "code",
   "execution_count": 13,
   "metadata": {},
   "outputs": [
    {
     "data": {
      "text/html": [
       "<div>\n",
       "<style scoped>\n",
       "    .dataframe tbody tr th:only-of-type {\n",
       "        vertical-align: middle;\n",
       "    }\n",
       "\n",
       "    .dataframe tbody tr th {\n",
       "        vertical-align: top;\n",
       "    }\n",
       "\n",
       "    .dataframe thead th {\n",
       "        text-align: right;\n",
       "    }\n",
       "</style>\n",
       "<table border=\"1\" class=\"dataframe\">\n",
       "  <thead>\n",
       "    <tr style=\"text-align: right;\">\n",
       "      <th></th>\n",
       "      <th>open</th>\n",
       "      <th>high</th>\n",
       "      <th>low</th>\n",
       "      <th>close</th>\n",
       "      <th>percent_b</th>\n",
       "      <th>slow_k</th>\n",
       "      <th>slow_d</th>\n",
       "      <th>apo</th>\n",
       "      <th>supertrend</th>\n",
       "      <th>trange</th>\n",
       "      <th>ultosc</th>\n",
       "    </tr>\n",
       "    <tr>\n",
       "      <th>datetime</th>\n",
       "      <th></th>\n",
       "      <th></th>\n",
       "      <th></th>\n",
       "      <th></th>\n",
       "      <th></th>\n",
       "      <th></th>\n",
       "      <th></th>\n",
       "      <th></th>\n",
       "      <th></th>\n",
       "      <th></th>\n",
       "      <th></th>\n",
       "    </tr>\n",
       "  </thead>\n",
       "  <tbody>\n",
       "    <tr>\n",
       "      <th>2022-03-01</th>\n",
       "      <td>1.12150</td>\n",
       "      <td>1.1233</td>\n",
       "      <td>1.0807</td>\n",
       "      <td>1.0993</td>\n",
       "      <td>-0.02819</td>\n",
       "      <td>10.11510</td>\n",
       "      <td>11.29192</td>\n",
       "      <td>-0.00104</td>\n",
       "      <td>1.20212</td>\n",
       "      <td>0.0426</td>\n",
       "      <td>36.57955</td>\n",
       "    </tr>\n",
       "    <tr>\n",
       "      <th>2022-02-01</th>\n",
       "      <td>1.12335</td>\n",
       "      <td>1.1495</td>\n",
       "      <td>1.1107</td>\n",
       "      <td>1.1215</td>\n",
       "      <td>0.04783</td>\n",
       "      <td>11.55295</td>\n",
       "      <td>11.45604</td>\n",
       "      <td>0.00470</td>\n",
       "      <td>1.11305</td>\n",
       "      <td>0.0388</td>\n",
       "      <td>36.68788</td>\n",
       "    </tr>\n",
       "  </tbody>\n",
       "</table>\n",
       "</div>"
      ],
      "text/plain": [
       "               open    high     low   close  percent_b    slow_k    slow_d  \\\n",
       "datetime                                                                     \n",
       "2022-03-01  1.12150  1.1233  1.0807  1.0993   -0.02819  10.11510  11.29192   \n",
       "2022-02-01  1.12335  1.1495  1.1107  1.1215    0.04783  11.55295  11.45604   \n",
       "\n",
       "                apo  supertrend  trange    ultosc  \n",
       "datetime                                           \n",
       "2022-03-01 -0.00104     1.20212  0.0426  36.57955  \n",
       "2022-02-01  0.00470     1.11305  0.0388  36.68788  "
      ]
     },
     "execution_count": 13,
     "metadata": {},
     "output_type": "execute_result"
    }
   ],
   "source": [
    "history.head()"
   ]
  },
  {
   "cell_type": "code",
   "execution_count": 14,
   "metadata": {},
   "outputs": [
    {
     "data": {
      "text/plain": [
       "(2, 11)"
      ]
     },
     "execution_count": 14,
     "metadata": {},
     "output_type": "execute_result"
    }
   ],
   "source": [
    "history.shape"
   ]
  },
  {
   "cell_type": "code",
   "execution_count": 6,
   "metadata": {},
   "outputs": [
    {
     "data": {
      "text/plain": [
       "(5000, 11)"
      ]
     },
     "execution_count": 6,
     "metadata": {},
     "output_type": "execute_result"
    }
   ],
   "source": [
    "history.drop_duplicates().shape"
   ]
  }
 ],
 "metadata": {
  "interpreter": {
   "hash": "31f2aee4e71d21fbe5cf8b01ff0e069b9275f58929596ceb00d14d90e3e16cd6"
  },
  "kernelspec": {
   "display_name": "Python 3.10.4 64-bit",
   "language": "python",
   "name": "python3"
  },
  "language_info": {
   "codemirror_mode": {
    "name": "ipython",
    "version": 3
   },
   "file_extension": ".py",
   "mimetype": "text/x-python",
   "name": "python",
   "nbconvert_exporter": "python",
   "pygments_lexer": "ipython3",
   "version": "3.10.4"
  },
  "orig_nbformat": 4
 },
 "nbformat": 4,
 "nbformat_minor": 2
}
